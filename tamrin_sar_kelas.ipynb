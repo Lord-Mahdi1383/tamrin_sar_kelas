{
 "cells": [
  {
   "cell_type": "code",
   "execution_count": 32,
   "id": "522ce05f",
   "metadata": {},
   "outputs": [],
   "source": [
    "import cv2\n",
    "import mediapipe as mp\n",
    "import numpy as np"
   ]
  },
  {
   "cell_type": "code",
   "execution_count": 11,
   "id": "40fe2ae8",
   "metadata": {},
   "outputs": [],
   "source": [
    "mp_hands = mp.solutions.hands\n",
    "mp_drawing = mp.solutions.drawing_utils\n",
    "mp_drawing_style = mp.solutions.drawing_styles"
   ]
  },
  {
   "cell_type": "code",
   "execution_count": 12,
   "id": "cf75f482",
   "metadata": {},
   "outputs": [
    {
     "name": "stderr",
     "output_type": "stream",
     "text": [
      "I0000 00:00:1759417295.019092   11258 gl_context_egl.cc:85] Successfully initialized EGL. Major : 1 Minor: 5\n",
      "I0000 00:00:1759417295.020958   11831 gl_context.cc:369] GL version: 3.2 (OpenGL ES 3.2 Mesa 25.1.4), renderer: Mesa Intel(R) Graphics (RPL-P)\n"
     ]
    }
   ],
   "source": [
    "hands = mp_hands.Hands(\n",
    "    max_num_hands = 2,\n",
    "    min_detection_confidence=0.5,\n",
    "    min_tracking_confidence=0.5\n",
    ")"
   ]
  },
  {
   "cell_type": "code",
   "execution_count": 35,
   "id": "3fa82874",
   "metadata": {},
   "outputs": [],
   "source": [
    "cap = cv2.VideoCapture(0)\n",
    "\n",
    "while cap.isOpened():\n",
    "    ret, image = cap.read()\n",
    "    if not ret:\n",
    "        print(\"owbfaclrwunilefhweohvowhfvwobvwcfhrgbvh\")\n",
    "        continue\n",
    "\n",
    "    image = cv2.flip(image, 1)\n",
    "    image_rgb = cv2.cvtColor(image, cv2.COLOR_BGR2RGB)\n",
    "    result = hands.process(image_rgb)\n",
    "        \n",
    "    if result.multi_hand_landmarks:\n",
    "        for hand_landmarks in result.multi_hand_landmarks:\n",
    "            mp_drawing.draw_landmarks(\n",
    "                image,\n",
    "                hand_landmarks,\n",
    "                mp_hands.HAND_CONNECTIONS,\n",
    "                mp_drawing_style.get_default_hand_landmarks_style(),\n",
    "                mp_drawing_style.get_default_hand_connections_style()\n",
    "            )\n",
    "\n",
    "            landmarks = hand_landmarks.landmark\n",
    "\n",
    "            if (landmarks[8].y > landmarks[6].y and\n",
    "                landmarks[12].y > landmarks[10].y and \n",
    "                landmarks[16].y > landmarks[14].y and \n",
    "                landmarks[20].y > landmarks[18].y and \n",
    "                landmarks[4].y < landmarks[7].y and \n",
    "                landmarks[4].y < landmarks[3].y):\n",
    "                cv2.putText(image, \"LETTER A!\", (50, 50), \n",
    "                           cv2.FONT_HERSHEY_SIMPLEX, 2, (255, 0, 0), 3)\n",
    "\n",
    "\n",
    "\n",
    "    cv2.imshow('Hand Landmarks Detection', image)\n",
    "    \n",
    "    if cv2.waitKey(5) & 0xFF == ord('q'):\n",
    "        break\n",
    "\n",
    "cap.release()\n",
    "cv2.destroyAllWindows()"
   ]
  },
  {
   "cell_type": "code",
   "execution_count": null,
   "id": "1a3d6c0f",
   "metadata": {},
   "outputs": [],
   "source": []
  },
  {
   "cell_type": "code",
   "execution_count": null,
   "id": "5877ce1f",
   "metadata": {},
   "outputs": [],
   "source": []
  },
  {
   "cell_type": "code",
   "execution_count": null,
   "id": "14436938",
   "metadata": {},
   "outputs": [],
   "source": []
  },
  {
   "cell_type": "code",
   "execution_count": null,
   "id": "f91bab61",
   "metadata": {},
   "outputs": [],
   "source": []
  },
  {
   "cell_type": "code",
   "execution_count": null,
   "id": "b9bbeadf",
   "metadata": {},
   "outputs": [],
   "source": []
  },
  {
   "cell_type": "code",
   "execution_count": null,
   "id": "c9969c9f",
   "metadata": {},
   "outputs": [],
   "source": []
  },
  {
   "cell_type": "code",
   "execution_count": 34,
   "id": "9b435db4",
   "metadata": {},
   "outputs": [
    {
     "name": "stdout",
     "output_type": "stream",
     "text": [
      "extracted 21 landmarks image\n"
     ]
    }
   ],
   "source": [
    "# روش دوم\n",
    "\n",
    "image = cv2.imread(\"/home/Goorba/Downloads/a-sign-language-4561deac-cfdedd5a-640w.webp\")\n",
    "\n",
    "\n",
    "image_rgb = cv2.cvtColor(image, cv2.COLOR_BGR2RGB)\n",
    "results = hands.process(image_rgb)\n",
    "\n",
    "\n",
    "landmarks_arr = []\n",
    "\n",
    "if results.multi_hand_landmarks:\n",
    "    hand_landmarks = results.multi_hand_landmarks[0]\n",
    "    for landmark in hand_landmarks.landmark:\n",
    "        landmarks_arr.append([landmark.x, landmark.y, landmark.z])\n",
    "\n",
    "    landmarks_array = np.array(landmarks_arr)\n",
    "    print(f\"extracted {len(landmarks_array)} landmarks image\")"
   ]
  },
  {
   "cell_type": "code",
   "execution_count": null,
   "id": "f4b0246c",
   "metadata": {},
   "outputs": [],
   "source": [
    "cap = cv2.VideoCapture(0)\n",
    "\n",
    "while cap.isOpened():\n",
    "    ret, image = cap.read()\n",
    "    if not ret:\n",
    "        print(\"owbfaclrwunilefhweohvowhfvwobvwcfhrgbvh\")\n",
    "        continue\n",
    "\n",
    "    image = cv2.flip(image, 1)\n",
    "    image_rgb = cv2.cvtColor(image, cv2.COLOR_BGR2RGB)\n",
    "    result = hands.process(image_rgb)\n",
    "        \n",
    "    if result.multi_hand_landmarks:\n",
    "        for hand_landmarks in result.multi_hand_landmarks:\n",
    "            mp_drawing.draw_landmarks(\n",
    "                image,\n",
    "                hand_landmarks,\n",
    "                mp_hands.HAND_CONNECTIONS,\n",
    "                mp_drawing_style.get_default_hand_landmarks_style(),\n",
    "                mp_drawing_style.get_default_hand_connections_style()\n",
    "            )\n",
    "\n",
    "        landmarks_array = []\n",
    "        for landmark in hand_landmarks.landmark:\n",
    "            landmarks_array.append([landmark.x, landmark.y, landmark.z])"
   ]
  }
 ],
 "metadata": {
  "kernelspec": {
   "display_name": "tf.env (3.11.13)",
   "language": "python",
   "name": "python3"
  },
  "language_info": {
   "codemirror_mode": {
    "name": "ipython",
    "version": 3
   },
   "file_extension": ".py",
   "mimetype": "text/x-python",
   "name": "python",
   "nbconvert_exporter": "python",
   "pygments_lexer": "ipython3",
   "version": "3.11.13"
  }
 },
 "nbformat": 4,
 "nbformat_minor": 5
}
